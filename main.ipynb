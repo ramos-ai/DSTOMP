{
 "cells": [
  {
   "cell_type": "code",
   "execution_count": 1,
   "id": "e959fa79",
   "metadata": {},
   "outputs": [],
   "source": [
    "import matplotlib.pyplot as plt\n",
    "import numpy as np\n",
    "from tqdm import tqdm\n",
    "\n",
    "from dstomp.framework import DSTOMP\n",
    "from environment.gridworld import GridWorld\n",
    "from environment.room_design import (\n",
    "    larger_hallway_larger_room,\n",
    "    larger_room,\n",
    "    stomp_four_room_design,\n",
    ")"
   ]
  },
  {
   "cell_type": "code",
   "execution_count": 2,
   "id": "79d705d9",
   "metadata": {},
   "outputs": [],
   "source": [
    "num_runs = 5\n",
    "all_runs = {\"option_learning_logs\": [], \"model_learning_logs\": [], \"planning_logs\": []}"
   ]
  },
  {
   "cell_type": "code",
   "execution_count": 3,
   "id": "8c19baa8",
   "metadata": {},
   "outputs": [
    {
     "name": "stderr",
     "output_type": "stream",
     "text": [
      "  0%|          | 0/5 [00:00<?, ?it/s]"
     ]
    },
    {
     "name": "stdout",
     "output_type": "stream",
     "text": [
      "Run 1/5\n",
      "[INFO] Starting DSTOMP execution...\n",
      "\n",
      "[INFO] Finding bottleneck states using Successor Representation\n"
     ]
    },
    {
     "name": "stderr",
     "output_type": "stream",
     "text": [
      "100%|██████████| 10000000/10000000 [01:55<00:00, 86409.97it/s]\n"
     ]
    },
    {
     "name": "stdout",
     "output_type": "stream",
     "text": [
      "\n",
      "[INFO] Learning options for subgoal 1/10\n"
     ]
    },
    {
     "name": "stderr",
     "output_type": "stream",
     "text": [
      "100%|██████████| 500000/500000 [00:24<00:00, 20444.36it/s]\n"
     ]
    },
    {
     "name": "stdout",
     "output_type": "stream",
     "text": [
      "\n",
      "[INFO] Learning options for subgoal 2/10\n"
     ]
    },
    {
     "name": "stderr",
     "output_type": "stream",
     "text": [
      "100%|██████████| 500000/500000 [00:24<00:00, 20702.76it/s]\n"
     ]
    },
    {
     "name": "stdout",
     "output_type": "stream",
     "text": [
      "\n",
      "[INFO] Learning options for subgoal 3/10\n"
     ]
    },
    {
     "name": "stderr",
     "output_type": "stream",
     "text": [
      "100%|██████████| 500000/500000 [00:24<00:00, 20405.31it/s]\n"
     ]
    },
    {
     "name": "stdout",
     "output_type": "stream",
     "text": [
      "\n",
      "[INFO] Learning options for subgoal 4/10\n"
     ]
    },
    {
     "name": "stderr",
     "output_type": "stream",
     "text": [
      "100%|██████████| 500000/500000 [00:24<00:00, 20555.58it/s]\n"
     ]
    },
    {
     "name": "stdout",
     "output_type": "stream",
     "text": [
      "\n",
      "[INFO] Learning options for subgoal 5/10\n"
     ]
    },
    {
     "name": "stderr",
     "output_type": "stream",
     "text": [
      "100%|██████████| 500000/500000 [00:24<00:00, 20690.17it/s]\n"
     ]
    },
    {
     "name": "stdout",
     "output_type": "stream",
     "text": [
      "\n",
      "[INFO] Learning options for subgoal 6/10\n"
     ]
    },
    {
     "name": "stderr",
     "output_type": "stream",
     "text": [
      "100%|██████████| 500000/500000 [00:24<00:00, 20470.01it/s]\n"
     ]
    },
    {
     "name": "stdout",
     "output_type": "stream",
     "text": [
      "\n",
      "[INFO] Learning options for subgoal 7/10\n"
     ]
    },
    {
     "name": "stderr",
     "output_type": "stream",
     "text": [
      "100%|██████████| 500000/500000 [00:24<00:00, 20538.37it/s]\n"
     ]
    },
    {
     "name": "stdout",
     "output_type": "stream",
     "text": [
      "\n",
      "[INFO] Learning options for subgoal 8/10\n"
     ]
    },
    {
     "name": "stderr",
     "output_type": "stream",
     "text": [
      "100%|██████████| 500000/500000 [00:24<00:00, 20290.70it/s]\n"
     ]
    },
    {
     "name": "stdout",
     "output_type": "stream",
     "text": [
      "\n",
      "[INFO] Learning options for subgoal 9/10\n"
     ]
    },
    {
     "name": "stderr",
     "output_type": "stream",
     "text": [
      "100%|██████████| 500000/500000 [00:24<00:00, 20704.85it/s]\n"
     ]
    },
    {
     "name": "stdout",
     "output_type": "stream",
     "text": [
      "\n",
      "[INFO] Learning options for subgoal 10/10\n"
     ]
    },
    {
     "name": "stderr",
     "output_type": "stream",
     "text": [
      "100%|██████████| 500000/500000 [00:24<00:00, 20602.08it/s]\n"
     ]
    },
    {
     "name": "stdout",
     "output_type": "stream",
     "text": [
      "\n",
      "[INFO] Learning model for option 1/14, a Primitive Action \n",
      "\n"
     ]
    },
    {
     "name": "stderr",
     "output_type": "stream",
     "text": [
      "100%|██████████| 500000/500000 [2:22:09<00:00, 58.62it/s] \n"
     ]
    },
    {
     "name": "stdout",
     "output_type": "stream",
     "text": [
      "\n",
      "[INFO] Learning model for option 2/14, a Primitive Action \n",
      "\n"
     ]
    },
    {
     "name": "stderr",
     "output_type": "stream",
     "text": [
      "100%|██████████| 500000/500000 [3:00:15<00:00, 46.23it/s] \n"
     ]
    },
    {
     "name": "stdout",
     "output_type": "stream",
     "text": [
      "\n",
      "[INFO] Learning model for option 3/14, a Primitive Action \n",
      "\n"
     ]
    },
    {
     "name": "stderr",
     "output_type": "stream",
     "text": [
      "100%|██████████| 500000/500000 [1:42:13<00:00, 81.52it/s] \n"
     ]
    },
    {
     "name": "stdout",
     "output_type": "stream",
     "text": [
      "\n",
      "[INFO] Learning model for option 4/14, a Primitive Action \n",
      "\n"
     ]
    },
    {
     "name": "stderr",
     "output_type": "stream",
     "text": [
      "100%|██████████| 500000/500000 [29:11<00:00, 285.49it/s]\n"
     ]
    },
    {
     "name": "stdout",
     "output_type": "stream",
     "text": [
      "\n",
      "[INFO] Learning model for option 5/14, a Full Option \n",
      "\n"
     ]
    },
    {
     "name": "stderr",
     "output_type": "stream",
     "text": [
      "100%|██████████| 500000/500000 [1:31:05<00:00, 91.48it/s] \n"
     ]
    },
    {
     "name": "stdout",
     "output_type": "stream",
     "text": [
      "\n",
      "[INFO] Learning model for option 6/14, a Full Option \n",
      "\n"
     ]
    },
    {
     "name": "stderr",
     "output_type": "stream",
     "text": [
      "100%|██████████| 500000/500000 [29:15<00:00, 284.81it/s]\n"
     ]
    },
    {
     "name": "stdout",
     "output_type": "stream",
     "text": [
      "\n",
      "[INFO] Learning model for option 7/14, a Full Option \n",
      "\n"
     ]
    },
    {
     "name": "stderr",
     "output_type": "stream",
     "text": [
      "100%|██████████| 500000/500000 [1:46:29<00:00, 78.25it/s] \n"
     ]
    },
    {
     "name": "stdout",
     "output_type": "stream",
     "text": [
      "\n",
      "[INFO] Learning model for option 8/14, a Full Option \n",
      "\n"
     ]
    },
    {
     "name": "stderr",
     "output_type": "stream",
     "text": [
      "100%|██████████| 500000/500000 [1:40:08<00:00, 83.21it/s] \n"
     ]
    },
    {
     "name": "stdout",
     "output_type": "stream",
     "text": [
      "\n",
      "[INFO] Learning model for option 9/14, a Full Option \n",
      "\n"
     ]
    },
    {
     "name": "stderr",
     "output_type": "stream",
     "text": [
      "100%|██████████| 500000/500000 [1:03:50<00:00, 130.53it/s]\n"
     ]
    },
    {
     "name": "stdout",
     "output_type": "stream",
     "text": [
      "\n",
      "[INFO] Learning model for option 10/14, a Full Option \n",
      "\n"
     ]
    },
    {
     "name": "stderr",
     "output_type": "stream",
     "text": [
      "100%|██████████| 500000/500000 [1:12:13<00:00, 115.37it/s]\n"
     ]
    },
    {
     "name": "stdout",
     "output_type": "stream",
     "text": [
      "\n",
      "[INFO] Learning model for option 11/14, a Full Option \n",
      "\n"
     ]
    },
    {
     "name": "stderr",
     "output_type": "stream",
     "text": [
      "100%|██████████| 500000/500000 [29:16<00:00, 284.70it/s]\n"
     ]
    },
    {
     "name": "stdout",
     "output_type": "stream",
     "text": [
      "\n",
      "[INFO] Learning model for option 12/14, a Full Option \n",
      "\n"
     ]
    },
    {
     "name": "stderr",
     "output_type": "stream",
     "text": [
      "100%|██████████| 500000/500000 [1:05:56<00:00, 126.39it/s]\n"
     ]
    },
    {
     "name": "stdout",
     "output_type": "stream",
     "text": [
      "\n",
      "[INFO] Learning model for option 13/14, a Full Option \n",
      "\n"
     ]
    },
    {
     "name": "stderr",
     "output_type": "stream",
     "text": [
      "100%|██████████| 500000/500000 [29:49<00:00, 279.33it/s]\n"
     ]
    },
    {
     "name": "stdout",
     "output_type": "stream",
     "text": [
      "\n",
      "[INFO] Learning model for option 14/14, a Full Option \n",
      "\n"
     ]
    },
    {
     "name": "stderr",
     "output_type": "stream",
     "text": [
      "100%|██████████| 500000/500000 [29:55<00:00, 278.42it/s]\n"
     ]
    },
    {
     "name": "stdout",
     "output_type": "stream",
     "text": [
      "\n",
      "[INFO] Planning with learned options and models...\n",
      "\n"
     ]
    },
    {
     "name": "stderr",
     "output_type": "stream",
     "text": [
      "100%|██████████| 20000/20000 [00:09<00:00, 2062.98it/s]\n",
      " 20%|██        | 1/5 [17:58:00<71:52:02, 64680.61s/it]"
     ]
    },
    {
     "name": "stdout",
     "output_type": "stream",
     "text": [
      "Run 2/5\n",
      "[INFO] Starting DSTOMP execution...\n",
      "\n",
      "[INFO] Finding bottleneck states using Successor Representation\n"
     ]
    },
    {
     "name": "stderr",
     "output_type": "stream",
     "text": [
      "100%|██████████| 10000000/10000000 [01:56<00:00, 86128.34it/s]\n"
     ]
    },
    {
     "name": "stdout",
     "output_type": "stream",
     "text": [
      "\n",
      "[INFO] Learning options for subgoal 1/10\n"
     ]
    },
    {
     "name": "stderr",
     "output_type": "stream",
     "text": [
      "100%|██████████| 500000/500000 [00:24<00:00, 20170.27it/s]\n"
     ]
    },
    {
     "name": "stdout",
     "output_type": "stream",
     "text": [
      "\n",
      "[INFO] Learning options for subgoal 2/10\n"
     ]
    },
    {
     "name": "stderr",
     "output_type": "stream",
     "text": [
      "100%|██████████| 500000/500000 [00:24<00:00, 20421.81it/s]\n"
     ]
    },
    {
     "name": "stdout",
     "output_type": "stream",
     "text": [
      "\n",
      "[INFO] Learning options for subgoal 3/10\n"
     ]
    },
    {
     "name": "stderr",
     "output_type": "stream",
     "text": [
      "100%|██████████| 500000/500000 [00:24<00:00, 20351.55it/s]\n"
     ]
    },
    {
     "name": "stdout",
     "output_type": "stream",
     "text": [
      "\n",
      "[INFO] Learning options for subgoal 4/10\n"
     ]
    },
    {
     "name": "stderr",
     "output_type": "stream",
     "text": [
      "100%|██████████| 500000/500000 [00:24<00:00, 20411.44it/s]\n"
     ]
    },
    {
     "name": "stdout",
     "output_type": "stream",
     "text": [
      "\n",
      "[INFO] Learning options for subgoal 5/10\n"
     ]
    },
    {
     "name": "stderr",
     "output_type": "stream",
     "text": [
      "100%|██████████| 500000/500000 [00:24<00:00, 20587.09it/s]\n"
     ]
    },
    {
     "name": "stdout",
     "output_type": "stream",
     "text": [
      "\n",
      "[INFO] Learning options for subgoal 6/10\n"
     ]
    },
    {
     "name": "stderr",
     "output_type": "stream",
     "text": [
      "100%|██████████| 500000/500000 [00:24<00:00, 20224.49it/s]\n"
     ]
    },
    {
     "name": "stdout",
     "output_type": "stream",
     "text": [
      "\n",
      "[INFO] Learning options for subgoal 7/10\n"
     ]
    },
    {
     "name": "stderr",
     "output_type": "stream",
     "text": [
      "100%|██████████| 500000/500000 [00:24<00:00, 20455.36it/s]\n"
     ]
    },
    {
     "name": "stdout",
     "output_type": "stream",
     "text": [
      "\n",
      "[INFO] Learning options for subgoal 8/10\n"
     ]
    },
    {
     "name": "stderr",
     "output_type": "stream",
     "text": [
      "100%|██████████| 500000/500000 [00:24<00:00, 20551.33it/s]\n"
     ]
    },
    {
     "name": "stdout",
     "output_type": "stream",
     "text": [
      "\n",
      "[INFO] Learning options for subgoal 9/10\n"
     ]
    },
    {
     "name": "stderr",
     "output_type": "stream",
     "text": [
      "100%|██████████| 500000/500000 [00:24<00:00, 20395.15it/s]\n"
     ]
    },
    {
     "name": "stdout",
     "output_type": "stream",
     "text": [
      "\n",
      "[INFO] Learning options for subgoal 10/10\n"
     ]
    },
    {
     "name": "stderr",
     "output_type": "stream",
     "text": [
      "100%|██████████| 500000/500000 [00:24<00:00, 20267.11it/s]\n"
     ]
    },
    {
     "name": "stdout",
     "output_type": "stream",
     "text": [
      "\n",
      "[INFO] Learning model for option 1/14, a Primitive Action \n",
      "\n"
     ]
    },
    {
     "name": "stderr",
     "output_type": "stream",
     "text": [
      " 45%|████▍     | 224156/500000 [13:26<16:31, 278.08it/s]\n",
      " 20%|██        | 1/5 [18:17:28<73:09:53, 65848.49s/it]\n"
     ]
    },
    {
     "ename": "KeyboardInterrupt",
     "evalue": "",
     "output_type": "error",
     "traceback": [
      "\u001b[31m---------------------------------------------------------------------------\u001b[39m",
      "\u001b[31mKeyboardInterrupt\u001b[39m                         Traceback (most recent call last)",
      "\u001b[36mCell\u001b[39m\u001b[36m \u001b[39m\u001b[32mIn[3]\u001b[39m\u001b[32m, line 12\u001b[39m\n\u001b[32m      4\u001b[39m dstomp = DSTOMP(\n\u001b[32m      5\u001b[39m     env=env,\n\u001b[32m      6\u001b[39m     num_subgoals=\u001b[32m10\u001b[39m,\n\u001b[32m      7\u001b[39m     off_policy_steps_for_successor_representation=\u001b[38;5;28mint\u001b[39m(\u001b[32m10e6\u001b[39m),\n\u001b[32m      8\u001b[39m )\n\u001b[32m     10\u001b[39m env.reset()\n\u001b[32m---> \u001b[39m\u001b[32m12\u001b[39m option_learning_logs, model_learning_logs, planning_logs = \u001b[43mdstomp\u001b[49m\u001b[43m.\u001b[49m\u001b[43mexecute\u001b[49m\u001b[43m(\u001b[49m\n\u001b[32m     13\u001b[39m \u001b[43m    \u001b[49m\u001b[43moff_policy_steps\u001b[49m\u001b[43m=\u001b[49m\u001b[32;43m500_000\u001b[39;49m\u001b[43m,\u001b[49m\u001b[43m \u001b[49m\u001b[43mnum_lookahead_operations\u001b[49m\u001b[43m=\u001b[49m\u001b[32;43m20_000\u001b[39;49m\n\u001b[32m     14\u001b[39m \u001b[43m\u001b[49m\u001b[43m)\u001b[49m\n\u001b[32m     16\u001b[39m all_runs[\u001b[33m\"\u001b[39m\u001b[33moption_learning_logs\u001b[39m\u001b[33m\"\u001b[39m].append(option_learning_logs)\n\u001b[32m     17\u001b[39m all_runs[\u001b[33m\"\u001b[39m\u001b[33mmodel_learning_logs\u001b[39m\u001b[33m\"\u001b[39m].append(model_learning_logs)\n",
      "\u001b[36mFile \u001b[39m\u001b[32m~/Documents/selfOrganization/phd/thesis/dstomp/dstomp/framework.py:126\u001b[39m, in \u001b[36mexecute\u001b[39m\u001b[34m(self, num_lookahead_operations, off_policy_steps)\u001b[39m\n\u001b[32m    123\u001b[39m     option_learning_logs.append(initial_state_estimative)\n\u001b[32m    125\u001b[39m \u001b[38;5;28;01mfor\u001b[39;00m option_idx \u001b[38;5;129;01min\u001b[39;00m \u001b[38;5;28mrange\u001b[39m(stomp_foundation.num_options):\n\u001b[32m--> \u001b[39m\u001b[32m126\u001b[39m     \u001b[38;5;28mprint\u001b[39m(\n\u001b[32m    127\u001b[39m         \u001b[33mf\u001b[39m\u001b[33m\"\u001b[39m\u001b[38;5;130;01m\\n\u001b[39;00m\u001b[33m[INFO] Learning model for option \u001b[39m\u001b[38;5;132;01m{\u001b[39;00moption_idx\u001b[38;5;250m \u001b[39m+\u001b[38;5;250m \u001b[39m\u001b[32m1\u001b[39m\u001b[38;5;132;01m}\u001b[39;00m\u001b[33m/\u001b[39m\u001b[38;5;132;01m{\u001b[39;00mstomp_foundation.num_options\u001b[38;5;132;01m}\u001b[39;00m\u001b[33m, \u001b[39m\u001b[38;5;132;01m{\u001b[39;00m\u001b[33m'\u001b[39m\u001b[33ma Primitive Action\u001b[39m\u001b[33m'\u001b[39m\u001b[38;5;250m \u001b[39m\u001b[38;5;28;01mif\u001b[39;00m\u001b[38;5;250m \u001b[39moption_idx\u001b[38;5;250m \u001b[39m<\u001b[38;5;250m \u001b[39m\u001b[38;5;28mself\u001b[39m.env.num_actions\u001b[38;5;250m \u001b[39m\u001b[38;5;28;01melse\u001b[39;00m\u001b[38;5;250m \u001b[39m\u001b[33m'\u001b[39m\u001b[33ma Full Option\u001b[39m\u001b[33m'\u001b[39m\u001b[38;5;132;01m}\u001b[39;00m\u001b[33m\"\u001b[39m\n\u001b[32m    128\u001b[39m     )\n\u001b[32m    129\u001b[39m     reward_model_errors, transition_model_errors = (\n\u001b[32m    130\u001b[39m         stomp_framework.model_learning.learn_model(option_idx, off_policy_steps)\n\u001b[32m    131\u001b[39m     )\n\u001b[32m    132\u001b[39m     model_learning_logs.append((reward_model_errors, transition_model_errors))\n",
      "\u001b[36mFile \u001b[39m\u001b[32m~/Documents/selfOrganization/phd/thesis/dstomp/dstomp/stomp_steps/model_learning.py:71\u001b[39m, in \u001b[36mModelLearning.learn_model\u001b[39m\u001b[34m(self, option_idx, off_policy_steps)\u001b[39m\n\u001b[32m     66\u001b[39m reward_model_errors.append(reward_model_error)\n\u001b[32m     68\u001b[39m predicted_transition = (\n\u001b[32m     69\u001b[39m     \u001b[38;5;28mself\u001b[39m.foundation.W_transitions[option_idx] @ state_features\n\u001b[32m     70\u001b[39m )\n\u001b[32m---> \u001b[39m\u001b[32m71\u001b[39m transition_model_error = \u001b[43mnp\u001b[49m\u001b[43m.\u001b[49m\u001b[43mlinalg\u001b[49m\u001b[43m.\u001b[49m\u001b[43mnorm\u001b[49m\u001b[43m(\u001b[49m\n\u001b[32m     72\u001b[39m \u001b[43m    \u001b[49m\u001b[43mpredicted_transition\u001b[49m\u001b[43m \u001b[49m\u001b[43m-\u001b[49m\u001b[43m \u001b[49m\u001b[43mnext_state_features\u001b[49m\n\u001b[32m     73\u001b[39m \u001b[43m\u001b[49m\u001b[43m)\u001b[49m\n\u001b[32m     74\u001b[39m transition_model_errors.append(transition_model_error)\n\u001b[32m     76\u001b[39m \u001b[38;5;66;03m# Handling the stopping value and option probabilities\u001b[39;00m\n",
      "\u001b[36mFile \u001b[39m\u001b[32m~/Documents/selfOrganization/phd/thesis/dstomp/dstomp-env/lib/python3.13/site-packages/numpy/linalg/_linalg.py:2618\u001b[39m, in \u001b[36m_norm_dispatcher\u001b[39m\u001b[34m(x, ord, axis, keepdims)\u001b[39m\n\u001b[32m   2614\u001b[39m     result = op(svd(y, compute_uv=\u001b[38;5;28;01mFalse\u001b[39;00m), axis=-\u001b[32m1\u001b[39m, initial=initial)\n\u001b[32m   2615\u001b[39m     \u001b[38;5;28;01mreturn\u001b[39;00m result\n\u001b[32m-> \u001b[39m\u001b[32m2618\u001b[39m \u001b[38;5;28;01mdef\u001b[39;00m\u001b[38;5;250m \u001b[39m\u001b[34m_norm_dispatcher\u001b[39m(x, \u001b[38;5;28mord\u001b[39m=\u001b[38;5;28;01mNone\u001b[39;00m, axis=\u001b[38;5;28;01mNone\u001b[39;00m, keepdims=\u001b[38;5;28;01mNone\u001b[39;00m):\n\u001b[32m   2619\u001b[39m     \u001b[38;5;28;01mreturn\u001b[39;00m (x,)\n\u001b[32m   2622\u001b[39m \u001b[38;5;129m@array_function_dispatch\u001b[39m(_norm_dispatcher)\n\u001b[32m   2623\u001b[39m \u001b[38;5;28;01mdef\u001b[39;00m\u001b[38;5;250m \u001b[39m\u001b[34mnorm\u001b[39m(x, \u001b[38;5;28mord\u001b[39m=\u001b[38;5;28;01mNone\u001b[39;00m, axis=\u001b[38;5;28;01mNone\u001b[39;00m, keepdims=\u001b[38;5;28;01mFalse\u001b[39;00m):\n",
      "\u001b[31mKeyboardInterrupt\u001b[39m: "
     ]
    }
   ],
   "source": [
    "for run in tqdm(range(num_runs)):\n",
    "    print(f\"Run {run + 1}/{num_runs}\")\n",
    "    env = GridWorld(larger_hallway_larger_room)\n",
    "    dstomp = DSTOMP(\n",
    "        env=env,\n",
    "        num_subgoals=10,\n",
    "        off_policy_steps_for_successor_representation=int(10e6),\n",
    "    )\n",
    "\n",
    "    env.reset()\n",
    "\n",
    "    option_learning_logs, model_learning_logs, planning_logs = dstomp.execute(\n",
    "        off_policy_steps=500_000, num_lookahead_operations=20_000\n",
    "    )\n",
    "\n",
    "    all_runs[\"option_learning_logs\"].append(option_learning_logs)\n",
    "    all_runs[\"model_learning_logs\"].append(model_learning_logs)\n",
    "    all_runs[\"planning_logs\"].append(planning_logs)"
   ]
  },
  {
   "cell_type": "code",
   "execution_count": null,
   "id": "b837e240",
   "metadata": {},
   "outputs": [],
   "source": [
    "planning_mean = np.mean(all_runs[\"planning_logs\"], axis=0)\n",
    "planning_std = np.std(all_runs[\"planning_logs\"], axis=0)"
   ]
  },
  {
   "cell_type": "code",
   "execution_count": null,
   "id": "a0f1e3a4",
   "metadata": {},
   "outputs": [],
   "source": [
    "def plot_arrays(mean_array, std_array, plotting_info):\n",
    "    # Create figure and axis\n",
    "    plt.figure(figsize=(20, 6))\n",
    "\n",
    "    # Generate x-axis points (assuming these are sequential steps/episodes)\n",
    "    x = np.arange(len(mean_array))\n",
    "\n",
    "    # Plot mean line with shaded standard deviation\n",
    "    plt.plot(x, mean_array, \"b-\", label=\"Mean\")\n",
    "    plt.fill_between(\n",
    "        x,\n",
    "        mean_array - std_array,\n",
    "        mean_array + std_array,\n",
    "        color=\"b\",\n",
    "        alpha=0.2,\n",
    "        label=\"Standard Deviation\",\n",
    "    )\n",
    "\n",
    "    # Customize the plot\n",
    "    plt.xlabel(plotting_info[\"xlabel\"])\n",
    "    plt.ylabel(f\"{plotting_info['ylabel']}\\n(Average Over 100 runs)\")\n",
    "    plt.title(plotting_info[\"title\"])\n",
    "    plt.legend()\n",
    "    plt.grid(True)\n",
    "\n",
    "    # Show the plot\n",
    "    plt.show()"
   ]
  },
  {
   "cell_type": "code",
   "execution_count": null,
   "id": "ccb3520a",
   "metadata": {},
   "outputs": [],
   "source": [
    "plot_arrays(\n",
    "    planning_mean,\n",
    "    planning_std,\n",
    "    {\n",
    "        \"xlabel\": \"Number of Planning Look-ahead Operations\",\n",
    "        \"ylabel\": \"Initial State Estimative: v_hat(s0)\",\n",
    "        \"title\": \"Planning with Options\",\n",
    "    },\n",
    ")"
   ]
  },
  {
   "cell_type": "code",
   "execution_count": null,
   "id": "ab64642e",
   "metadata": {},
   "outputs": [
    {
     "data": {
      "image/png": "[encoded data removed]",
      "text/plain": [
       "<Figure size 800x1000 with 1 Axes>"
      ]
     },
     "metadata": {},
     "output_type": "display_data"
    }
   ],
   "source": [
    "env.plot_room()"
   ]
  },
  {
   "cell_type": "code",
   "execution_count": 1,
   "id": "5b6c2d3c",
   "metadata": {},
   "outputs": [],
   "source": [
    "import numpy as np"
   ]
  },
  {
   "cell_type": "code",
   "execution_count": 3,
   "id": "21f485f4",
   "metadata": {},
   "outputs": [],
   "source": [
    "w_subgoal = np.load(\"results/larger_hallway_larger_room_with_successor_representation/14:21:23 - 15/06/2025/run_0/w_subgoal.npy\")"
   ]
  },
  {
   "cell_type": "code",
   "execution_count": 6,
   "id": "e13ee58c",
   "metadata": {},
   "outputs": [
    {
     "name": "stdout",
     "output_type": "stream",
     "text": [
      "oi\n"
     ]
    }
   ],
   "source": [
    "print('oi')"
   ]
  },
  {
   "cell_type": "code",
   "execution_count": null,
   "id": "56e2a543",
   "metadata": {},
   "outputs": [],
   "source": []
  }
 ],
 "metadata": {
  "kernelspec": {
   "display_name": "Python 3",
   "language": "python",
   "name": "python3"
  },
  "language_info": {
   "codemirror_mode": {
    "name": "ipython",
    "version": 3
   },
   "file_extension": ".py",
   "mimetype": "text/x-python",
   "name": "python",
   "nbconvert_exporter": "python",
   "pygments_lexer": "ipython3",
   "version": "3.10.12"
  }
 },
 "nbformat": 4,
 "nbformat_minor": 5
}
