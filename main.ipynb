{
 "cells": [
  {
   "cell_type": "code",
   "execution_count": null,
   "id": "e959fa79",
   "metadata": {},
   "outputs": [],
   "source": [
    "import pickle\n",
    "from os.path import join\n",
    "\n",
    "import matplotlib.pyplot as plt\n",
    "import numpy as np\n",
    "from tqdm import tqdm\n",
    "\n",
    "from dstomp.framework import DSTOMP, STOMP\n",
    "from environment.gridworld import GridWorld\n",
    "from experiments import ExperimentsAvailable, get_experiment"
   ]
  },
  {
   "cell_type": "code",
   "execution_count": null,
   "id": "79d705d9",
   "metadata": {},
   "outputs": [],
   "source": [
    "num_runs = 2\n",
    "all_runs = []\n",
    "experiment, experiment_results_path = get_experiment(\n",
    "    ExperimentsAvailable.FOUR_ROOM_WITH_SUCCESSOR\n",
    ")"
   ]
  },
  {
   "cell_type": "code",
   "execution_count": null,
   "id": "4ee4f564",
   "metadata": {},
   "outputs": [],
   "source": [
    "for run_idx in tqdm(range(num_runs)):\n",
    "    result_folder_path = join(experiment_results_path, f\"run_{run_idx}\")\n",
    "    env = GridWorld(experiment.env_design)\n",
    "    stomp = STOMP(\n",
    "        env=env,\n",
    "        subgoal_states_info=experiment.hallways_states_info,\n",
    "        experiment_results_path=experiment_results_path,\n",
    "    )\n",
    "    dstomp = DSTOMP(\n",
    "        env=env,\n",
    "        num_subgoals=experiment.num_subgoals,\n",
    "        off_policy_steps_for_successor_representation=experiment.off_policy_steps_for_successor_representation,\n",
    "        experiment_results_path=result_folder_path,\n",
    "    )\n",
    "\n",
    "    env.reset()\n",
    "\n",
    "    stomp_option_learning_logs, stomp_model_learning_logs, stomp_planning_logs = (\n",
    "        stomp.execute(\n",
    "            off_policy_steps=experiment.off_policy_steps_for_stomp_progression,\n",
    "            num_lookahead_operations=experiment.num_lookahead_operations,\n",
    "        )\n",
    "    )\n",
    "\n",
    "    dstomp_option_learning_logs, dstomp_model_learning_logs, dstomp_planning_logs = (\n",
    "        dstomp.execute(\n",
    "            off_policy_steps=experiment.off_policy_steps_for_stomp_progression,\n",
    "            num_lookahead_operations=experiment.num_lookahead_operations,\n",
    "        )\n",
    "    )\n",
    "\n",
    "    result = {\n",
    "        \"stomp\": {\n",
    "            \"option_learning\": stomp_option_learning_logs,\n",
    "            \"model_learning\": stomp_model_learning_logs,\n",
    "            \"planning\": stomp_planning_logs,\n",
    "        },\n",
    "        \"dstomp\": {\n",
    "            \"option_learning\": dstomp_option_learning_logs,\n",
    "            \"model_learning\": dstomp_model_learning_logs,\n",
    "            \"planning\": dstomp_planning_logs,\n",
    "        },\n",
    "    }\n",
    "\n",
    "    all_runs.append(result)"
   ]
  },
  {
   "cell_type": "code",
   "execution_count": null,
   "id": "71de6f9d",
   "metadata": {},
   "outputs": [],
   "source": [
    "with open(join(experiment_results_path, \"all_runs.pkl\"), \"wb\") as f:\n",
    "    pickle.dump(all_runs, f)"
   ]
  },
  {
   "cell_type": "code",
   "execution_count": null,
   "id": "9b252f89",
   "metadata": {},
   "outputs": [],
   "source": [
    "option_learning_logs = [run[0] for run in all_runs]\n",
    "option_learning_logs_mean = np.mean(option_learning_logs, axis=0)\n",
    "option_learning_logs_std = np.std(option_learning_logs, axis=0)\n",
    "\n",
    "planning = [run[2] for run in all_runs]\n",
    "planning_mean = np.mean(planning, axis=0)\n",
    "planning_std = np.std(planning, axis=0)"
   ]
  },
  {
   "cell_type": "code",
   "execution_count": null,
   "id": "56e2a543",
   "metadata": {},
   "outputs": [],
   "source": [
    "def plot_arrays(mean_array, std_array, plotting_info, plotting_name):\n",
    "    # Create figure and axis\n",
    "    plt.figure(figsize=(20, 6))\n",
    "\n",
    "    # Generate x-axis points (assuming these are sequential steps/episodes)\n",
    "    x = np.arange(len(mean_array))\n",
    "\n",
    "    # Plot mean line with shaded standard deviation\n",
    "    plt.plot(x, mean_array, \"b-\", label=\"Mean\")\n",
    "    plt.fill_between(\n",
    "        x,\n",
    "        mean_array - std_array,\n",
    "        mean_array + std_array,\n",
    "        color=\"b\",\n",
    "        alpha=0.2,\n",
    "        label=\"Standard Deviation\",\n",
    "    )\n",
    "\n",
    "    # Customize the plot\n",
    "    plt.xlabel(plotting_info[\"xlabel\"])\n",
    "    plt.ylabel(f\"{plotting_info['ylabel']}\\n(Average Over 100 runs)\")\n",
    "    plt.title(plotting_info[\"title\"])\n",
    "    plt.legend()\n",
    "    plt.grid(True)\n",
    "\n",
    "    # Show the plot\n",
    "    plt.show()\n",
    "    # save_fig_path = join(experiment_results_path, f\"{plotting_name}.png\")\n",
    "    # plt.savefig(f\"{save_fig_path}\", bbox_inches=\"tight\")"
   ]
  },
  {
   "cell_type": "code",
   "execution_count": null,
   "id": "e2885ad8",
   "metadata": {},
   "outputs": [],
   "source": [
    "for subgoal_idx in range(len(option_learning_logs_mean)):\n",
    "    plot_arrays(\n",
    "        option_learning_logs_mean[subgoal_idx],\n",
    "        option_learning_logs_std[subgoal_idx],\n",
    "        {\n",
    "            \"xlabel\": \"Off-Policy Steps\",\n",
    "            \"ylabel\": \"Initial Estimate: v_hat(s0)\",\n",
    "            \"title\": f\"Subgoal {subgoal_idx + 1} Option Learning\",\n",
    "        },\n",
    "        f\"subgoal_{subgoal_idx + 1}_option_learning\",\n",
    "    )\n",
    "\n",
    "plot_arrays(\n",
    "    planning_mean,\n",
    "    planning_std,\n",
    "    {\n",
    "        \"xlabel\": \"Number of Planning Look-ahead Operations\",\n",
    "        \"ylabel\": \"Initial State Estimative: v_hat(s0)\",\n",
    "        \"title\": \"Planning with Options\",\n",
    "    },\n",
    "    \"planning_with_options\",\n",
    ")"
   ]
  },
  {
   "cell_type": "code",
   "execution_count": null,
   "id": "5328b8d9",
   "metadata": {},
   "outputs": [],
   "source": []
  }
 ],
 "metadata": {
  "kernelspec": {
   "display_name": "dstomp-env",
   "language": "python",
   "name": "python3"
  },
  "language_info": {
   "codemirror_mode": {
    "name": "ipython",
    "version": 3
   },
   "file_extension": ".py",
   "mimetype": "text/x-python",
   "name": "python",
   "nbconvert_exporter": "python",
   "pygments_lexer": "ipython3",
   "version": "3.13.3"
  }
 },
 "nbformat": 4,
 "nbformat_minor": 5
}
